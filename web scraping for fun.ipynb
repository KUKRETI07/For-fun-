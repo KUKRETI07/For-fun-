{
 "cells": [
  {
   "cell_type": "markdown",
   "id": "99b69fe3",
   "metadata": {},
   "source": [
    "#                   Best Phones Under 15000 In Flipkart"
   ]
  },
  {
   "cell_type": "code",
   "execution_count": 1,
   "id": "6bd71161",
   "metadata": {},
   "outputs": [],
   "source": [
    "import pandas as pd\n",
    "import requests\n",
    "from bs4 import BeautifulSoup"
   ]
  },
  {
   "cell_type": "code",
   "execution_count": 2,
   "id": "b134f8fc",
   "metadata": {},
   "outputs": [],
   "source": [
    "# Url of flipcard \n",
    "url = \"https://www.flipkart.com/search?q=best%20phone%20under%2015000&otracker=search&otracker1=search&marketplace=FLIPKART&as-show=on&as=off\""
   ]
  },
  {
   "cell_type": "code",
   "execution_count": 3,
   "id": "072347b6",
   "metadata": {},
   "outputs": [],
   "source": [
    "# get url in python \n",
    "web = requests.get(url).text"
   ]
  },
  {
   "cell_type": "code",
   "execution_count": 4,
   "id": "67923aad",
   "metadata": {},
   "outputs": [],
   "source": [
    "# parsing through BeautifulSoup\n",
    "soup = BeautifulSoup(web , \"lxml\")"
   ]
  },
  {
   "cell_type": "code",
   "execution_count": 5,
   "id": "d61ab45c",
   "metadata": {},
   "outputs": [],
   "source": [
    "n = soup.find_all(\"div\" , class_ = \"KzDlHZ\")"
   ]
  },
  {
   "cell_type": "code",
   "execution_count": 6,
   "id": "46aeebd9",
   "metadata": {},
   "outputs": [
    {
     "name": "stdout",
     "output_type": "stream",
     "text": [
      "24\n"
     ]
    }
   ],
   "source": [
    "# Fetching names of all phones In single flipkard page \n",
    "n = soup.find_all(\"div\" , class_ = \"KzDlHZ\")\n",
    "names = []\n",
    "for i in n :\n",
    "    names.append(i.text)\n",
    "print(len(names))    "
   ]
  },
  {
   "cell_type": "code",
   "execution_count": 7,
   "id": "bec08c93",
   "metadata": {},
   "outputs": [
    {
     "name": "stdout",
     "output_type": "stream",
     "text": [
      "['vivo T4x 5G (Pronto Purple, 128 GB)', 'vivo T4x 5G (Marine Blue, 128 GB)', 'vivo T4x 5G (Pronto Purple, 128 GB)', 'realme P1 5G (Feather Blue, 128 GB)', 'Motorola g64 5G (Pearl Blue, 128 GB)', 'Motorola g64 5G (Ice Lilac, 128 GB)', 'POCO M7 5G (Ocean Blue, 128 GB)', 'vivo T4x 5G (Marine Blue, 128 GB)', 'vivo T3 Lite 5G (Vibrant Green, 128 GB)', 'realme P3x 5G (Midnight Blue, 128 GB)', 'realme P1 5G (Phoenix Red, 128 GB)', 'Motorola g64 5G (Mint Green, 128 GB)', 'POCO M7 5G (Mint Green, 128 GB)', 'POCO M6 Plus 5G (Graphite Black, 128 GB)', 'POCO M7 5G (Satin Black, 128 GB)', 'SAMSUNG Galaxy F06 5G (Bahama Blue, 128 GB)', 'realme P3x 5G (Midnight Blue, 128 GB)', 'realme 70 TURBO 5G (Turbo Green, 128 GB)', 'SAMSUNG Galaxy F15 5G (Jazzy Green, 128 GB)', 'realme P3x 5G (Stellar Pink, 128 GB)', 'realme 70 TURBO 5G (Turbo Yellow, 128 GB)', 'realme Narzo N65 5G (Deep Green, 128 GB)', 'vivo T3x 5G (Crimson Bliss, 128 GB)', 'POCO M6 Plus 5G (Misty Lavender, 128 GB)']\n"
     ]
    }
   ],
   "source": [
    "print(names)"
   ]
  },
  {
   "cell_type": "code",
   "execution_count": 8,
   "id": "85db5f21",
   "metadata": {},
   "outputs": [
    {
     "name": "stdout",
     "output_type": "stream",
     "text": [
      "['4.5', '4.5', '4.5', '4.4', '4.3', '4.3', '4.2', '4.5', '4.4', '4.5', '4.4', '4.3', '4.2', '4.2', '4.2', '4.1', '4.5', '4.3', '4.1', '4.5', '4.3', '4.3', '4.5', '4.2', '4.3', '4', '4', '4.1', '5', '1', '4.5', '5', '1', '4.2', '4', '4', '4.5', '5', '5']\n",
      "39\n"
     ]
    }
   ],
   "source": [
    "# Fetching Ratings \n",
    "r = soup.find_all(\"div\" , class_ = \"XQDdHH\")\n",
    "ratings = []  \n",
    "for i in r:\n",
    "    ratings.append(i.text)\n",
    "\n",
    "print(ratings)\n",
    "print(len(ratings))"
   ]
  },
  {
   "cell_type": "code",
   "execution_count": 9,
   "id": "0a29d0aa",
   "metadata": {},
   "outputs": [
    {
     "data": {
      "text/plain": [
       "24"
      ]
     },
     "execution_count": 9,
     "metadata": {},
     "output_type": "execute_result"
    }
   ],
   "source": [
    "# Removing Unwanted ratings \n",
    "ratings = ratings[:-15]\n",
    "len(ratings)"
   ]
  },
  {
   "cell_type": "code",
   "execution_count": 10,
   "id": "58b3098f",
   "metadata": {},
   "outputs": [
    {
     "name": "stdout",
     "output_type": "stream",
     "text": [
      "['4.5', '4.5', '4.5', '4.4', '4.3', '4.3', '4.2', '4.5', '4.4', '4.5', '4.4', '4.3', '4.2', '4.2', '4.2', '4.1', '4.5', '4.3', '4.1', '4.5', '4.3', '4.3', '4.5', '4.2']\n"
     ]
    }
   ],
   "source": [
    "print(ratings)"
   ]
  },
  {
   "cell_type": "code",
   "execution_count": 11,
   "id": "1e3fdfa9",
   "metadata": {},
   "outputs": [
    {
     "data": {
      "text/plain": [
       "24"
      ]
     },
     "execution_count": 11,
     "metadata": {},
     "output_type": "execute_result"
    }
   ],
   "source": [
    "# fetching ram of each phone \n",
    "ram_rom = soup.find_all(\"ul\" , class_ = \"G4BRas\") \n",
    "ram = []\n",
    "for i in ram_rom :\n",
    "    ram.append(i.text)\n",
    "len(ram)"
   ]
  },
  {
   "cell_type": "code",
   "execution_count": 12,
   "id": "7852dc7f",
   "metadata": {},
   "outputs": [
    {
     "name": "stdout",
     "output_type": "stream",
     "text": [
      "['6 GB RAM | 128 GB ROM17.07 cm (6.72 inch) Display50MP + 2MP | 8MP Front Camera6500 mAh BatteryDimensity 7300 5G Processor1 Year Warranty for Device and 6 Months Warranty for Accessories', '6 GB RAM | 128 GB ROM17.07 cm (6.72 inch) Display50MP + 2MP | 8MP Front Camera6500 mAh BatteryDimensity 7300 5G Processor1 Year Warranty for Device and 6 Months Warranty for Accessories', '8 GB RAM | 128 GB ROM17.07 cm (6.72 inch) Display50MP + 2MP | 8MP Front Camera6500 mAh BatteryDimensity 7300 5G Processor1 Year Warranty for Device and 6 Months Warranty for Accessories', '6 GB RAM | 128 GB ROM | Expandable Upto 2 TB16.94 cm (6.67 inch) Full HD+ Display50MP + 2MP | 16MP Front Camera5000 mAh BatteryDimensity 7050 Processor1 Year Manufacturer Warranty for Device and 6 Months Manufacturer Warranty for Inbox Accessories', '8 GB RAM | 128 GB ROM | Expandable Upto 1 TB16.51 cm (6.5 inch) Full HD+ Display50MP (OIS) + 8MP | 16MP Front Camera6000 mAh BatteryDimensity 7025 Processor1 Year on Handset and 6 Months on Accessories', '8 GB RAM | 128 GB ROM | Expandable Upto 1 TB16.51 cm (6.5 inch) Full HD+ Display50MP (OIS) + 8MP | 16MP Front Camera6000 mAh BatteryDimensity 7025 Processor1 Year on Handset and 6 Months on Accessories', '8 GB RAM | 128 GB ROM | Expandable Upto 1 TB17.48 cm (6.88 inch) HD+ Display50MP Rear Camera | 8MP Front Camera5160 mAh Battery4 Gen 2 5G Processor1 Year Manufacturer Warranty for Phone and 6 Months Warranty for In the Box Accessories', '8 GB RAM | 128 GB ROM17.07 cm (6.72 inch) Display50MP + 2MP | 8MP Front Camera6500 mAh BatteryDimensity 7300 5G Processor1 Year Warranty for Device and 6 Months Warranty for Accessories', '4 GB RAM | 128 GB ROM | Expandable Upto 1 TB16.66 cm (6.56 inch) Display50MP + 2MP | 8MP Front Camera5000 mAh BatteryDimensity 6300 Processor1 Year Manufacturer Warranty for Device and 6 Months Manufacturer Warranty for Inbox Accessories', '6 GB RAM | 128 GB ROM17.07 cm (6.72 inch) Full HD Display50MP Rear Camera | 8MP Front Camera6000 mAh BatteryDimensity 6400 Processor1 Year Manufacturer Warranty for Device and 6 Months Manufacturer Warranty for Inbox Accessories', '6 GB RAM | 128 GB ROM | Expandable Upto 2 TB16.94 cm (6.67 inch) Full HD+ Display50MP + 2MP | 16MP Front Camera5000 mAh BatteryDimensity 7050 Processor1 Year Manufacturer Warranty for Device and 6 Months Manufacturer Warranty for Inbox Accessories', '8 GB RAM | 128 GB ROM | Expandable Upto 1 TB16.51 cm (6.5 inch) Full HD+ Display50MP (OIS) + 8MP | 16MP Front Camera6000 mAh BatteryDimensity 7025 Processor1 Year on Handset and 6 Months on Accessories', '8 GB RAM | 128 GB ROM | Expandable Upto 1 TB17.48 cm (6.88 inch) HD+ Display50MP Rear Camera | 8MP Front Camera5160 mAh Battery4 Gen 2 5G Processor1 Year Manufacturer Warranty for Phone and 6 Months Warranty for In the Box Accessories', '6 GB RAM | 128 GB ROM | Expandable Upto 1 TB17.25 cm (6.79 inch) Full HD+ Display108MP + 2MP | 13MP Front Camera5030 mAh BatterySnapdragon 4 Gen2 AE Processor1 Year Manufacturer Warranty for Phone and 6 Months Warranty for In the Box Accessories', '8 GB RAM | 128 GB ROM | Expandable Upto 1 TB17.48 cm (6.88 inch) HD+ Display50MP Rear Camera | 8MP Front Camera5160 mAh Battery4 Gen 2 5G Processor1 Year Manufacturer Warranty for Phone and 6 Months Warranty for In the Box Accessories', '6 GB RAM | 128 GB ROM | Expandable Upto 1500 GB17.02 cm (6.7 inch) HD+ Display50MP + 2MP | 8MP Front Camera5000 mAh BatteryDimensity 6300 Processor1 Year Manufacturer Warranty for Device and 6 Months for In-Box Accessories', '8 GB RAM | 128 GB ROM17.07 cm (6.72 inch) Full HD Display50MP Rear Camera | 8MP Front Camera6000 mAh BatteryDimensity 6400 Processor1 Year Manufacturer Warranty for Device and 6 Months Manufacturer Warranty for Inbox Accessories', \"6 GB RAM | 128 GB ROM16.94 cm (6.67 inch) Full HD+ Display50MP Rear Camera5000 mAh BatterySegment's Fastest Dimensity 7300 Energy 5G Chipset Processor12 Months Brand warranty\", '4 GB RAM | 128 GB ROM | Expandable Upto 1 TB16.51 cm (6.5 inch) Full HD+ Display50MP + 5MP + 2MP | 13MP Front Camera6000 mAh Lithium ion BatteryMediaTek Dimensity 6100+ Processor1 Year Manufacturer Warranty for Device and 6 Months Manufacturer Warranty for In-Box Accessories', '6 GB RAM | 128 GB ROM17.07 cm (6.72 inch) Full HD Display50MP Rear Camera | 8MP Front Camera6000 mAh BatteryDimensity 6400 Processor1 Year Manufacturer Warranty for Device and 6 Months Manufacturer Warranty for Inbox Accessories', \"6 GB RAM | 128 GB ROM16.94 cm (6.67 inch) Full HD+ Display50MP Rear Camera5000 mAh BatterySegment's Fastest Dimensity 7300 Energy 5G Chipset Processor12 Months Brand warranty\", '6 GB RAM | 128 GB ROM16.94 cm (6.67 inch) Display50MP Rear Camera5000 mAh Battery1 Year', '6 GB RAM | 128 GB ROM | Expandable Upto 1 TB17.06 cm (6.7165354 inch) Full HD+ Display50MP + 2MP | 8MP Front Camera6000 mAh Battery6 Gen 1 Processor1 Year Manufacturer Warranty for Device and 6 Months Manufacturer Warranty for Inbox Accessories', '8 GB RAM | 128 GB ROM | Expandable Upto 1 TB17.25 cm (6.79 inch) Full HD+ Display108MP + 2MP | 13MP Front Camera5030 mAh BatterySnapdragon 4 Gen2 AE Processor1 Year Manufacturer Warranty for Phone and 6 Months Warranty for In the Box Accessories']\n"
     ]
    }
   ],
   "source": [
    "print(ram)"
   ]
  },
  {
   "cell_type": "code",
   "execution_count": 13,
   "id": "fd512c13",
   "metadata": {},
   "outputs": [],
   "source": [
    "# Making data frame \n",
    "df = {\"names\":names , \"rating\":ratings , \"ram\" : ram } "
   ]
  },
  {
   "cell_type": "code",
   "execution_count": 14,
   "id": "d298692b",
   "metadata": {},
   "outputs": [
    {
     "data": {
      "text/html": [
       "<div>\n",
       "<style scoped>\n",
       "    .dataframe tbody tr th:only-of-type {\n",
       "        vertical-align: middle;\n",
       "    }\n",
       "\n",
       "    .dataframe tbody tr th {\n",
       "        vertical-align: top;\n",
       "    }\n",
       "\n",
       "    .dataframe thead th {\n",
       "        text-align: right;\n",
       "    }\n",
       "</style>\n",
       "<table border=\"1\" class=\"dataframe\">\n",
       "  <thead>\n",
       "    <tr style=\"text-align: right;\">\n",
       "      <th></th>\n",
       "      <th>names</th>\n",
       "      <th>rating</th>\n",
       "      <th>ram</th>\n",
       "    </tr>\n",
       "  </thead>\n",
       "  <tbody>\n",
       "    <tr>\n",
       "      <th>0</th>\n",
       "      <td>vivo T4x 5G (Pronto Purple, 128 GB)</td>\n",
       "      <td>4.5</td>\n",
       "      <td>6 GB RAM | 128 GB ROM17.07 cm (6.72 inch) Disp...</td>\n",
       "    </tr>\n",
       "    <tr>\n",
       "      <th>1</th>\n",
       "      <td>vivo T4x 5G (Marine Blue, 128 GB)</td>\n",
       "      <td>4.5</td>\n",
       "      <td>6 GB RAM | 128 GB ROM17.07 cm (6.72 inch) Disp...</td>\n",
       "    </tr>\n",
       "    <tr>\n",
       "      <th>2</th>\n",
       "      <td>vivo T4x 5G (Pronto Purple, 128 GB)</td>\n",
       "      <td>4.5</td>\n",
       "      <td>8 GB RAM | 128 GB ROM17.07 cm (6.72 inch) Disp...</td>\n",
       "    </tr>\n",
       "    <tr>\n",
       "      <th>3</th>\n",
       "      <td>realme P1 5G (Feather Blue, 128 GB)</td>\n",
       "      <td>4.4</td>\n",
       "      <td>6 GB RAM | 128 GB ROM | Expandable Upto 2 TB16...</td>\n",
       "    </tr>\n",
       "    <tr>\n",
       "      <th>4</th>\n",
       "      <td>Motorola g64 5G (Pearl Blue, 128 GB)</td>\n",
       "      <td>4.3</td>\n",
       "      <td>8 GB RAM | 128 GB ROM | Expandable Upto 1 TB16...</td>\n",
       "    </tr>\n",
       "    <tr>\n",
       "      <th>5</th>\n",
       "      <td>Motorola g64 5G (Ice Lilac, 128 GB)</td>\n",
       "      <td>4.3</td>\n",
       "      <td>8 GB RAM | 128 GB ROM | Expandable Upto 1 TB16...</td>\n",
       "    </tr>\n",
       "    <tr>\n",
       "      <th>6</th>\n",
       "      <td>POCO M7 5G (Ocean Blue, 128 GB)</td>\n",
       "      <td>4.2</td>\n",
       "      <td>8 GB RAM | 128 GB ROM | Expandable Upto 1 TB17...</td>\n",
       "    </tr>\n",
       "    <tr>\n",
       "      <th>7</th>\n",
       "      <td>vivo T4x 5G (Marine Blue, 128 GB)</td>\n",
       "      <td>4.5</td>\n",
       "      <td>8 GB RAM | 128 GB ROM17.07 cm (6.72 inch) Disp...</td>\n",
       "    </tr>\n",
       "    <tr>\n",
       "      <th>8</th>\n",
       "      <td>vivo T3 Lite 5G (Vibrant Green, 128 GB)</td>\n",
       "      <td>4.4</td>\n",
       "      <td>4 GB RAM | 128 GB ROM | Expandable Upto 1 TB16...</td>\n",
       "    </tr>\n",
       "    <tr>\n",
       "      <th>9</th>\n",
       "      <td>realme P3x 5G (Midnight Blue, 128 GB)</td>\n",
       "      <td>4.5</td>\n",
       "      <td>6 GB RAM | 128 GB ROM17.07 cm (6.72 inch) Full...</td>\n",
       "    </tr>\n",
       "    <tr>\n",
       "      <th>10</th>\n",
       "      <td>realme P1 5G (Phoenix Red, 128 GB)</td>\n",
       "      <td>4.4</td>\n",
       "      <td>6 GB RAM | 128 GB ROM | Expandable Upto 2 TB16...</td>\n",
       "    </tr>\n",
       "    <tr>\n",
       "      <th>11</th>\n",
       "      <td>Motorola g64 5G (Mint Green, 128 GB)</td>\n",
       "      <td>4.3</td>\n",
       "      <td>8 GB RAM | 128 GB ROM | Expandable Upto 1 TB16...</td>\n",
       "    </tr>\n",
       "    <tr>\n",
       "      <th>12</th>\n",
       "      <td>POCO M7 5G (Mint Green, 128 GB)</td>\n",
       "      <td>4.2</td>\n",
       "      <td>8 GB RAM | 128 GB ROM | Expandable Upto 1 TB17...</td>\n",
       "    </tr>\n",
       "    <tr>\n",
       "      <th>13</th>\n",
       "      <td>POCO M6 Plus 5G (Graphite Black, 128 GB)</td>\n",
       "      <td>4.2</td>\n",
       "      <td>6 GB RAM | 128 GB ROM | Expandable Upto 1 TB17...</td>\n",
       "    </tr>\n",
       "    <tr>\n",
       "      <th>14</th>\n",
       "      <td>POCO M7 5G (Satin Black, 128 GB)</td>\n",
       "      <td>4.2</td>\n",
       "      <td>8 GB RAM | 128 GB ROM | Expandable Upto 1 TB17...</td>\n",
       "    </tr>\n",
       "    <tr>\n",
       "      <th>15</th>\n",
       "      <td>SAMSUNG Galaxy F06 5G (Bahama Blue, 128 GB)</td>\n",
       "      <td>4.1</td>\n",
       "      <td>6 GB RAM | 128 GB ROM | Expandable Upto 1500 G...</td>\n",
       "    </tr>\n",
       "    <tr>\n",
       "      <th>16</th>\n",
       "      <td>realme P3x 5G (Midnight Blue, 128 GB)</td>\n",
       "      <td>4.5</td>\n",
       "      <td>8 GB RAM | 128 GB ROM17.07 cm (6.72 inch) Full...</td>\n",
       "    </tr>\n",
       "    <tr>\n",
       "      <th>17</th>\n",
       "      <td>realme 70 TURBO 5G (Turbo Green, 128 GB)</td>\n",
       "      <td>4.3</td>\n",
       "      <td>6 GB RAM | 128 GB ROM16.94 cm (6.67 inch) Full...</td>\n",
       "    </tr>\n",
       "    <tr>\n",
       "      <th>18</th>\n",
       "      <td>SAMSUNG Galaxy F15 5G (Jazzy Green, 128 GB)</td>\n",
       "      <td>4.1</td>\n",
       "      <td>4 GB RAM | 128 GB ROM | Expandable Upto 1 TB16...</td>\n",
       "    </tr>\n",
       "    <tr>\n",
       "      <th>19</th>\n",
       "      <td>realme P3x 5G (Stellar Pink, 128 GB)</td>\n",
       "      <td>4.5</td>\n",
       "      <td>6 GB RAM | 128 GB ROM17.07 cm (6.72 inch) Full...</td>\n",
       "    </tr>\n",
       "    <tr>\n",
       "      <th>20</th>\n",
       "      <td>realme 70 TURBO 5G (Turbo Yellow, 128 GB)</td>\n",
       "      <td>4.3</td>\n",
       "      <td>6 GB RAM | 128 GB ROM16.94 cm (6.67 inch) Full...</td>\n",
       "    </tr>\n",
       "    <tr>\n",
       "      <th>21</th>\n",
       "      <td>realme Narzo N65 5G (Deep Green, 128 GB)</td>\n",
       "      <td>4.3</td>\n",
       "      <td>6 GB RAM | 128 GB ROM16.94 cm (6.67 inch) Disp...</td>\n",
       "    </tr>\n",
       "    <tr>\n",
       "      <th>22</th>\n",
       "      <td>vivo T3x 5G (Crimson Bliss, 128 GB)</td>\n",
       "      <td>4.5</td>\n",
       "      <td>6 GB RAM | 128 GB ROM | Expandable Upto 1 TB17...</td>\n",
       "    </tr>\n",
       "    <tr>\n",
       "      <th>23</th>\n",
       "      <td>POCO M6 Plus 5G (Misty Lavender, 128 GB)</td>\n",
       "      <td>4.2</td>\n",
       "      <td>8 GB RAM | 128 GB ROM | Expandable Upto 1 TB17...</td>\n",
       "    </tr>\n",
       "  </tbody>\n",
       "</table>\n",
       "</div>"
      ],
      "text/plain": [
       "                                          names rating  \\\n",
       "0           vivo T4x 5G (Pronto Purple, 128 GB)    4.5   \n",
       "1             vivo T4x 5G (Marine Blue, 128 GB)    4.5   \n",
       "2           vivo T4x 5G (Pronto Purple, 128 GB)    4.5   \n",
       "3           realme P1 5G (Feather Blue, 128 GB)    4.4   \n",
       "4          Motorola g64 5G (Pearl Blue, 128 GB)    4.3   \n",
       "5           Motorola g64 5G (Ice Lilac, 128 GB)    4.3   \n",
       "6               POCO M7 5G (Ocean Blue, 128 GB)    4.2   \n",
       "7             vivo T4x 5G (Marine Blue, 128 GB)    4.5   \n",
       "8       vivo T3 Lite 5G (Vibrant Green, 128 GB)    4.4   \n",
       "9         realme P3x 5G (Midnight Blue, 128 GB)    4.5   \n",
       "10           realme P1 5G (Phoenix Red, 128 GB)    4.4   \n",
       "11         Motorola g64 5G (Mint Green, 128 GB)    4.3   \n",
       "12              POCO M7 5G (Mint Green, 128 GB)    4.2   \n",
       "13     POCO M6 Plus 5G (Graphite Black, 128 GB)    4.2   \n",
       "14             POCO M7 5G (Satin Black, 128 GB)    4.2   \n",
       "15  SAMSUNG Galaxy F06 5G (Bahama Blue, 128 GB)    4.1   \n",
       "16        realme P3x 5G (Midnight Blue, 128 GB)    4.5   \n",
       "17     realme 70 TURBO 5G (Turbo Green, 128 GB)    4.3   \n",
       "18  SAMSUNG Galaxy F15 5G (Jazzy Green, 128 GB)    4.1   \n",
       "19         realme P3x 5G (Stellar Pink, 128 GB)    4.5   \n",
       "20    realme 70 TURBO 5G (Turbo Yellow, 128 GB)    4.3   \n",
       "21     realme Narzo N65 5G (Deep Green, 128 GB)    4.3   \n",
       "22          vivo T3x 5G (Crimson Bliss, 128 GB)    4.5   \n",
       "23     POCO M6 Plus 5G (Misty Lavender, 128 GB)    4.2   \n",
       "\n",
       "                                                  ram  \n",
       "0   6 GB RAM | 128 GB ROM17.07 cm (6.72 inch) Disp...  \n",
       "1   6 GB RAM | 128 GB ROM17.07 cm (6.72 inch) Disp...  \n",
       "2   8 GB RAM | 128 GB ROM17.07 cm (6.72 inch) Disp...  \n",
       "3   6 GB RAM | 128 GB ROM | Expandable Upto 2 TB16...  \n",
       "4   8 GB RAM | 128 GB ROM | Expandable Upto 1 TB16...  \n",
       "5   8 GB RAM | 128 GB ROM | Expandable Upto 1 TB16...  \n",
       "6   8 GB RAM | 128 GB ROM | Expandable Upto 1 TB17...  \n",
       "7   8 GB RAM | 128 GB ROM17.07 cm (6.72 inch) Disp...  \n",
       "8   4 GB RAM | 128 GB ROM | Expandable Upto 1 TB16...  \n",
       "9   6 GB RAM | 128 GB ROM17.07 cm (6.72 inch) Full...  \n",
       "10  6 GB RAM | 128 GB ROM | Expandable Upto 2 TB16...  \n",
       "11  8 GB RAM | 128 GB ROM | Expandable Upto 1 TB16...  \n",
       "12  8 GB RAM | 128 GB ROM | Expandable Upto 1 TB17...  \n",
       "13  6 GB RAM | 128 GB ROM | Expandable Upto 1 TB17...  \n",
       "14  8 GB RAM | 128 GB ROM | Expandable Upto 1 TB17...  \n",
       "15  6 GB RAM | 128 GB ROM | Expandable Upto 1500 G...  \n",
       "16  8 GB RAM | 128 GB ROM17.07 cm (6.72 inch) Full...  \n",
       "17  6 GB RAM | 128 GB ROM16.94 cm (6.67 inch) Full...  \n",
       "18  4 GB RAM | 128 GB ROM | Expandable Upto 1 TB16...  \n",
       "19  6 GB RAM | 128 GB ROM17.07 cm (6.72 inch) Full...  \n",
       "20  6 GB RAM | 128 GB ROM16.94 cm (6.67 inch) Full...  \n",
       "21  6 GB RAM | 128 GB ROM16.94 cm (6.67 inch) Disp...  \n",
       "22  6 GB RAM | 128 GB ROM | Expandable Upto 1 TB17...  \n",
       "23  8 GB RAM | 128 GB ROM | Expandable Upto 1 TB17...  "
      ]
     },
     "execution_count": 14,
     "metadata": {},
     "output_type": "execute_result"
    }
   ],
   "source": [
    "# now we have the data of each phone which is under 15k from single page of flipkart\n",
    "pd.DataFrame(df)"
   ]
  },
  {
   "cell_type": "markdown",
   "id": "91bfeb68",
   "metadata": {},
   "source": [
    "#   Now we Retrive the entire flipkart website and search best phone under 15k"
   ]
  },
  {
   "cell_type": "code",
   "execution_count": 15,
   "id": "52a59a4a",
   "metadata": {},
   "outputs": [],
   "source": [
    "url = \"https://www.flipkart.com/search?q=best+phone+under+15000&otracker=search&otracker1=search&marketplace=FLIPKART&as-show=on&as=off&page=\""
   ]
  },
  {
   "cell_type": "markdown",
   "id": "f53a22ef",
   "metadata": {},
   "source": [
    "Phone Names "
   ]
  },
  {
   "cell_type": "code",
   "execution_count": null,
   "id": "471a1ad1",
   "metadata": {},
   "outputs": [],
   "source": [
    "names = []\n",
    "for i in range(1,501):\n",
    "    url = url + str(i)\n",
    "    web = requests.get(url).text\n",
    "    soup = BeautifulSoup(web , \"lxml\")\n",
    "    n = soup.find_all(\"div\" , class_ = \"KzDlHZ\")\n",
    "    for i in n:\n",
    "        names.append(i.text)\n",
    "print(len(names))"
   ]
  },
  {
   "cell_type": "code",
   "execution_count": null,
   "id": "308818ba",
   "metadata": {},
   "outputs": [],
   "source": [
    "print(names)"
   ]
  },
  {
   "cell_type": "markdown",
   "id": "96886058",
   "metadata": {},
   "source": [
    "Price "
   ]
  },
  {
   "cell_type": "code",
   "execution_count": null,
   "id": "33e86c92",
   "metadata": {},
   "outputs": [],
   "source": [
    "price = []\n",
    "for i in range(2,11):\n",
    "    url = url + str(i)\n",
    "    web = requests.get(url).text\n",
    "    soup = BeautifulSoup(web , \"lxml\")\n",
    "    n = soup.find_all(\"div\" , class_ = \"Nx9bqj _4b5DiR\")\n",
    "    for i in n:\n",
    "        price.append(i.text)\n",
    "len(price)"
   ]
  },
  {
   "cell_type": "code",
   "execution_count": null,
   "id": "5bda1027",
   "metadata": {},
   "outputs": [],
   "source": [
    "print(price)"
   ]
  },
  {
   "cell_type": "markdown",
   "id": "81482a90",
   "metadata": {},
   "source": [
    "Ratings "
   ]
  },
  {
   "cell_type": "code",
   "execution_count": null,
   "id": "ebc39c8b",
   "metadata": {},
   "outputs": [],
   "source": [
    "box = soup.find(\"div\" , class_ = \"DOjaWF YJG4Cf\")\n",
    "rating = []\n",
    "for i in range(2,11):\n",
    "    url = url + str(i)\n",
    "    web = requests.get(url).text\n",
    "    soup = BeautifulSoup(web , \"lxml\")\n",
    "    r = box.find_all(\"div\" , class_ = \"XQDdHH\")\n",
    "    for i in r:\n",
    "        rating.append(i.text)\n",
    "len(rating)"
   ]
  },
  {
   "cell_type": "code",
   "execution_count": null,
   "id": "ff7ea95c",
   "metadata": {},
   "outputs": [],
   "source": [
    "print(rating)"
   ]
  },
  {
   "cell_type": "markdown",
   "id": "1c4ffcf1",
   "metadata": {},
   "source": [
    "description "
   ]
  },
  {
   "cell_type": "code",
   "execution_count": null,
   "id": "920daaba",
   "metadata": {},
   "outputs": [],
   "source": [
    "desc = []\n",
    "for i in range(2,11):\n",
    "    url = url + str(i)\n",
    "    web = requests.get(url).text\n",
    "    soup = BeautifulSoup(web , \"lxml\")\n",
    "    r = box.find_all(\"ul\" , class_ = \"G4BRas\")\n",
    "    for i in r:\n",
    "        desc.append(i.text)\n",
    "len(desc)"
   ]
  },
  {
   "cell_type": "code",
   "execution_count": null,
   "id": "2489cc46",
   "metadata": {},
   "outputs": [],
   "source": [
    "print(desc)"
   ]
  },
  {
   "cell_type": "markdown",
   "id": "7547dac1",
   "metadata": {},
   "source": [
    "# Creating Dataframe "
   ]
  },
  {
   "cell_type": "code",
   "execution_count": null,
   "id": "79374d1f",
   "metadata": {},
   "outputs": [],
   "source": [
    "f_df = { \"names\":names ,\"price\":price,\"rating\":rating , \"description\": desc }"
   ]
  },
  {
   "cell_type": "code",
   "execution_count": null,
   "id": "d2b8b9f9",
   "metadata": {},
   "outputs": [],
   "source": [
    "flipkart_df = pd.DataFrame(f_df)"
   ]
  },
  {
   "cell_type": "code",
   "execution_count": null,
   "id": "b0834a59",
   "metadata": {},
   "outputs": [],
   "source": [
    "flipkart_df"
   ]
  },
  {
   "cell_type": "code",
   "execution_count": null,
   "id": "7d3195c7",
   "metadata": {},
   "outputs": [],
   "source": [
    "# which phone is best ?\n",
    "Best_phones = flipkart_df.sort_values(\"description\")\n",
    "\n",
    "print(Best_phones[[\"names\", \"price\"]].head())"
   ]
  },
  {
   "cell_type": "markdown",
   "id": "ae63177b",
   "metadata": {},
   "source": [
    "#  Now its tooo boring , if you want to see my skills in Data Science or Analytics , you can check my other github  Repo :)"
   ]
  }
 ],
 "metadata": {
  "kernelspec": {
   "display_name": "Python 3 (ipykernel)",
   "language": "python",
   "name": "python3"
  },
  "language_info": {
   "codemirror_mode": {
    "name": "ipython",
    "version": 3
   },
   "file_extension": ".py",
   "mimetype": "text/x-python",
   "name": "python",
   "nbconvert_exporter": "python",
   "pygments_lexer": "ipython3",
   "version": "3.11.5"
  }
 },
 "nbformat": 4,
 "nbformat_minor": 5
}
